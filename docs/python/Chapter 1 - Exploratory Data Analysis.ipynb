{
 "cells": [
  {
   "cell_type": "markdown",
   "id": "1c6dcfbb",
   "metadata": {},
   "source": [
    "# Practical Statistics for Data Scientists (Python)"
   ]
  },
  {
   "cell_type": "markdown",
   "id": "2a62c603",
   "metadata": {},
   "source": [
    "## Chapter 1 - Exploratory Data Analysis"
   ]
  },
  {
   "cell_type": "code",
   "execution_count": 17,
   "id": "572c6593",
   "metadata": {},
   "outputs": [],
   "source": [
    "%matplotlib inline\n",
    "\n",
    "from pathlib import Path\n",
    "\n",
    "import pandas as pd\n",
    "import numpy as np\n",
    "from scipy.stats import trim_mean\n",
    "from statsmodels import robust\n",
    "\n",
    "import seaborn as sns\n",
    "import matplotlib.pylab as plt\n",
    "\n",
    "import wquantiles"
   ]
  },
  {
   "cell_type": "markdown",
   "id": "dfce4130",
   "metadata": {},
   "source": [
    "## Estimates of Location"
   ]
  },
  {
   "cell_type": "markdown",
   "id": "32a0e6ff",
   "metadata": {},
   "source": [
    "### Example: Location estimates of population and murder rates"
   ]
  },
  {
   "cell_type": "code",
   "execution_count": 6,
   "id": "9724afd4",
   "metadata": {},
   "outputs": [
    {
     "name": "stdout",
     "output_type": "stream",
     "text": [
      "        State  Population  Murder.Rate Abbreviation\n",
      "0     Alabama     4779736          5.7           AL\n",
      "1      Alaska      710231          5.6           AK\n",
      "2     Arizona     6392017          4.7           AZ\n",
      "3    Arkansas     2915918          5.6           AR\n",
      "4  California    37253956          4.4           CA\n"
     ]
    }
   ],
   "source": [
    "# import data\n",
    "\n",
    "state = pd.read_csv('data/state.csv')\n",
    "print(state.head(5))"
   ]
  },
  {
   "cell_type": "code",
   "execution_count": 9,
   "id": "0986deb2",
   "metadata": {},
   "outputs": [
    {
     "data": {
      "text/plain": [
       "6162876.3"
      ]
     },
     "execution_count": 9,
     "metadata": {},
     "output_type": "execute_result"
    }
   ],
   "source": [
    "state['Population'].mean()"
   ]
  },
  {
   "cell_type": "code",
   "execution_count": 10,
   "id": "e9490d6d",
   "metadata": {},
   "outputs": [
    {
     "data": {
      "text/plain": [
       "4783697.125"
      ]
     },
     "execution_count": 10,
     "metadata": {},
     "output_type": "execute_result"
    }
   ],
   "source": [
    "trim_mean(state['Population'], 0.1)"
   ]
  },
  {
   "cell_type": "code",
   "execution_count": 11,
   "id": "7ad30b68",
   "metadata": {},
   "outputs": [
    {
     "data": {
      "text/plain": [
       "4436369.5"
      ]
     },
     "execution_count": 11,
     "metadata": {},
     "output_type": "execute_result"
    }
   ],
   "source": [
    "state['Population'].median()"
   ]
  },
  {
   "cell_type": "code",
   "execution_count": 20,
   "id": "8a0ceeb7",
   "metadata": {},
   "outputs": [
    {
     "name": "stdout",
     "output_type": "stream",
     "text": [
      "4.445833981123393\n"
     ]
    }
   ],
   "source": [
    "print(np.average(state['Murder.Rate'], weights=state['Population']))"
   ]
  },
  {
   "cell_type": "code",
   "execution_count": 19,
   "id": "d1649bf4",
   "metadata": {},
   "outputs": [
    {
     "name": "stdout",
     "output_type": "stream",
     "text": [
      "4.4\n"
     ]
    }
   ],
   "source": [
    "print(wquantiles.median(state['Murder.Rate'], weights=state['Population']))"
   ]
  },
  {
   "cell_type": "code",
   "execution_count": null,
   "id": "3368a7f6",
   "metadata": {},
   "outputs": [],
   "source": []
  }
 ],
 "metadata": {
  "kernelspec": {
   "display_name": "Python 3",
   "language": "python",
   "name": "python3"
  },
  "language_info": {
   "codemirror_mode": {
    "name": "ipython",
    "version": 3
   },
   "file_extension": ".py",
   "mimetype": "text/x-python",
   "name": "python",
   "nbconvert_exporter": "python",
   "pygments_lexer": "ipython3",
   "version": "3.8.8"
  }
 },
 "nbformat": 4,
 "nbformat_minor": 5
}
