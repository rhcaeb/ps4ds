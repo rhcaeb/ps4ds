{
 "cells": [
  {
   "cell_type": "markdown",
   "id": "1c6dcfbb",
   "metadata": {},
   "source": [
    "# Practical Statistics for Data Scientists (Python)"
   ]
  },
  {
   "cell_type": "markdown",
   "id": "2a62c603",
   "metadata": {},
   "source": [
    "## Chapter 1 - Exploratory Data Analysis"
   ]
  },
  {
   "cell_type": "code",
   "execution_count": 22,
   "id": "572c6593",
   "metadata": {},
   "outputs": [],
   "source": [
    "%matplotlib inline\n",
    "\n",
    "from pathlib import Path\n",
    "\n",
    "import pandas as pd\n",
    "import numpy as np\n",
    "from scipy.stats import trim_mean\n",
    "from statsmodels import robust\n",
    "\n",
    "import seaborn as sns\n",
    "import matplotlib.pylab as plt\n",
    "\n",
    "import wquantiles\n",
    "\n",
    "import os \n",
    "# os.getcwd()\n",
    "# os.chdir('')\n",
    "\n"
   ]
  },
  {
   "cell_type": "markdown",
   "id": "dfce4130",
   "metadata": {},
   "source": [
    "## Estimates of Location"
   ]
  },
  {
   "cell_type": "code",
   "execution_count": 23,
   "id": "9724afd4",
   "metadata": {},
   "outputs": [
    {
     "name": "stdout",
     "output_type": "stream",
     "text": [
      "        State  Population  Murder.Rate Abbreviation\n",
      "0     Alabama     4779736          5.7           AL\n",
      "1      Alaska      710231          5.6           AK\n",
      "2     Arizona     6392017          4.7           AZ\n",
      "3    Arkansas     2915918          5.6           AR\n",
      "4  California    37253956          4.4           CA\n"
     ]
    }
   ],
   "source": [
    "# import data\n",
    "\n",
    "state = pd.read_csv('data/state.csv')\n",
    "print(state.head(5))"
   ]
  },
  {
   "cell_type": "code",
   "execution_count": 24,
   "id": "0986deb2",
   "metadata": {},
   "outputs": [
    {
     "data": {
      "text/plain": [
       "6162876.3"
      ]
     },
     "execution_count": 24,
     "metadata": {},
     "output_type": "execute_result"
    }
   ],
   "source": [
    "state['Population'].mean()"
   ]
  },
  {
   "cell_type": "code",
   "execution_count": 25,
   "id": "e9490d6d",
   "metadata": {},
   "outputs": [
    {
     "data": {
      "text/plain": [
       "4783697.125"
      ]
     },
     "execution_count": 25,
     "metadata": {},
     "output_type": "execute_result"
    }
   ],
   "source": [
    "trim_mean(state['Population'], 0.1)"
   ]
  },
  {
   "cell_type": "code",
   "execution_count": 26,
   "id": "7ad30b68",
   "metadata": {},
   "outputs": [
    {
     "data": {
      "text/plain": [
       "4436369.5"
      ]
     },
     "execution_count": 26,
     "metadata": {},
     "output_type": "execute_result"
    }
   ],
   "source": [
    "state['Population'].median()"
   ]
  },
  {
   "cell_type": "code",
   "execution_count": 27,
   "id": "8a0ceeb7",
   "metadata": {},
   "outputs": [
    {
     "name": "stdout",
     "output_type": "stream",
     "text": [
      "4.445833981123393\n"
     ]
    }
   ],
   "source": [
    "print(np.average(state['Murder.Rate'], weights=state['Population']))"
   ]
  },
  {
   "cell_type": "code",
   "execution_count": 28,
   "id": "d1649bf4",
   "metadata": {},
   "outputs": [
    {
     "name": "stdout",
     "output_type": "stream",
     "text": [
      "4.4\n"
     ]
    }
   ],
   "source": [
    "print(wquantiles.median(state['Murder.Rate'], weights=state['Population']))"
   ]
  },
  {
   "cell_type": "markdown",
   "id": "7b706d26",
   "metadata": {},
   "source": [
    "# Estimates of Variability"
   ]
  },
  {
   "cell_type": "markdown",
   "id": "cef3fe59",
   "metadata": {},
   "source": [
    "## Example: Variability estimates of state population"
   ]
  },
  {
   "cell_type": "code",
   "execution_count": 29,
   "id": "e276a65e",
   "metadata": {},
   "outputs": [
    {
     "data": {
      "text/plain": [
       "6848235.347401142"
      ]
     },
     "execution_count": 29,
     "metadata": {},
     "output_type": "execute_result"
    }
   ],
   "source": [
    "state['Population'].std() # standard deviation"
   ]
  },
  {
   "cell_type": "code",
   "execution_count": 30,
   "id": "d77cbfc5",
   "metadata": {},
   "outputs": [
    {
     "data": {
      "text/plain": [
       "4847308.0"
      ]
     },
     "execution_count": 30,
     "metadata": {},
     "output_type": "execute_result"
    }
   ],
   "source": [
    "state['Population'].quantile(0.75) - state['Population'].quantile(0.25) # IQR"
   ]
  },
  {
   "cell_type": "code",
   "execution_count": 31,
   "id": "2c79cd1b",
   "metadata": {},
   "outputs": [
    {
     "data": {
      "text/plain": [
       "3849876.1459979336"
      ]
     },
     "execution_count": 31,
     "metadata": {},
     "output_type": "execute_result"
    }
   ],
   "source": [
    "robust.scale.mad(state['Population']) # median absolute deviation"
   ]
  },
  {
   "cell_type": "markdown",
   "id": "e4198291",
   "metadata": {},
   "source": [
    "# Exploring the Data Distribution"
   ]
  },
  {
   "cell_type": "markdown",
   "id": "586b8c86",
   "metadata": {},
   "source": [
    "## Percentiles and Boxplots"
   ]
  },
  {
   "cell_type": "code",
   "execution_count": 32,
   "id": "c4cd3b9f",
   "metadata": {},
   "outputs": [
    {
     "data": {
      "text/plain": [
       "0.05    1.600\n",
       "0.25    2.425\n",
       "0.50    4.000\n",
       "0.75    5.550\n",
       "0.95    6.510\n",
       "Name: Murder.Rate, dtype: float64"
      ]
     },
     "execution_count": 32,
     "metadata": {},
     "output_type": "execute_result"
    }
   ],
   "source": [
    "state['Murder.Rate'].quantile([0.05, 0.25, 0.50, 0.75, 0.95])"
   ]
  },
  {
   "cell_type": "code",
   "execution_count": 34,
   "id": "b8dcc4b2",
   "metadata": {},
   "outputs": [
    {
     "data": {
      "text/plain": [
       "Text(0, 0.5, 'Population (millions)')"
      ]
     },
     "execution_count": 34,
     "metadata": {},
     "output_type": "execute_result"
    },
    {
     "data": {
      "image/png": "[encoded data removed]",
      "text/plain": [
       "<Figure size 432x288 with 1 Axes>"
      ]
     },
     "metadata": {
      "needs_background": "light"
     },
     "output_type": "display_data"
    }
   ],
   "source": [
    "ax = (state['Population']/1_000_000).plot.box()\n",
    "ax.set_ylabel('Population (millions)')"
   ]
  },
  {
   "cell_type": "markdown",
   "id": "bf1cb775",
   "metadata": {},
   "source": [
    "## Frequency Tables and Histograms"
   ]
  },
  {
   "cell_type": "code",
   "execution_count": 36,
   "id": "c862fe7a",
   "metadata": {},
   "outputs": [
    {
     "data": {
      "text/plain": [
       "(526935.67, 4232659.0]      24\n",
       "(4232659.0, 7901692.0]      14\n",
       "(7901692.0, 11570725.0]      6\n",
       "(11570725.0, 15239758.0]     2\n",
       "(15239758.0, 18908791.0]     1\n",
       "(18908791.0, 22577824.0]     1\n",
       "(22577824.0, 26246857.0]     1\n",
       "(33584923.0, 37253956.0]     1\n",
       "(26246857.0, 29915890.0]     0\n",
       "(29915890.0, 33584923.0]     0\n",
       "Name: Population, dtype: int64"
      ]
     },
     "execution_count": 36,
     "metadata": {},
     "output_type": "execute_result"
    }
   ],
   "source": [
    "binnedPopulation = pd.cut(state['Population'], 10)\n",
    "binnedPopulation.value_counts()"
   ]
  },
  {
   "cell_type": "code",
   "execution_count": 37,
   "id": "fb51c8b6",
   "metadata": {},
   "outputs": [
    {
     "data": {
      "text/plain": [
       "Text(0.5, 0, 'Population (millions)')"
      ]
     },
     "execution_count": 37,
     "metadata": {},
     "output_type": "execute_result"
    },
    {
     "data": {
      "image/png": "[encoded data removed]",
      "text/plain": [
       "<Figure size 288x288 with 1 Axes>"
      ]
     },
     "metadata": {
      "needs_background": "light"
     },
     "output_type": "display_data"
    }
   ],
   "source": [
    "ax = (state['Population'] / 1_000_000).plot.hist(figsize = (4, 4))\n",
    "ax.set_xlabel('Population (millions)')"
   ]
  },
  {
   "cell_type": "code",
   "execution_count": null,
   "id": "ffb0c168",
   "metadata": {},
   "outputs": [],
   "source": []
  }
 ],
 "metadata": {
  "kernelspec": {
   "display_name": "Python 3",
   "language": "python",
   "name": "python3"
  },
  "language_info": {
   "codemirror_mode": {
    "name": "ipython",
    "version": 3
   },
   "file_extension": ".py",
   "mimetype": "text/x-python",
   "name": "python",
   "nbconvert_exporter": "python",
   "pygments_lexer": "ipython3",
   "version": "3.8.8"
  }
 },
 "nbformat": 4,
 "nbformat_minor": 5
}
